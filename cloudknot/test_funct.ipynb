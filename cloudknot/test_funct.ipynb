{
 "cells": [
  {
   "cell_type": "code",
   "execution_count": 15,
   "metadata": {},
   "outputs": [
    {
     "name": "stderr",
     "output_type": "stream",
     "text": [
      "WARNING:root:Import named \"cloudpickle\" not found locally. Trying to resolve it at the PyPI server.\n",
      "WARNING:root:Import named \"cloudpickle\" was resolved to \"cloudpickle:3.0.0\" package (https://pypi.org/project/cloudpickle/).\n",
      "Please, verify manually the final list of requirements.txt to avoid possible dependency confusions.\n",
      "WARNING:root:Import named \"numpy\" not found locally. Trying to resolve it at the PyPI server.\n",
      "WARNING:root:Import named \"numpy\" was resolved to \"numpy:1.26.4\" package (https://pypi.org/project/numpy/).\n",
      "Please, verify manually the final list of requirements.txt to avoid possible dependency confusions.\n",
      "WARNING:root:Import named \"boto3\" not found locally. Trying to resolve it at the PyPI server.\n",
      "WARNING:root:Import named \"boto3\" was resolved to \"boto3:1.34.67\" package (https://pypi.org/project/boto3/).\n",
      "Please, verify manually the final list of requirements.txt to avoid possible dependency confusions.\n"
     ]
    }
   ],
   "source": [
    "import cloudknot as ck\n",
    "\n",
    "def random_mv_prod(b):\n",
    "   import numpy as np\n",
    "\n",
    "   x = np.random.normal(0, b, 1024)\n",
    "   A = np.random.normal(0, b, (1024, 1024))\n",
    "\n",
    "   return np.dot(A, x)\n",
    "\n",
    "knot = ck.Knot(name='new-new-test', func=random_mv_prod, base_image='python:3.11')\n"
   ]
  },
  {
   "cell_type": "code",
   "execution_count": 11,
   "metadata": {},
   "outputs": [
    {
     "name": "stdout",
     "output_type": "stream",
     "text": [
      "<Future at 0x117c606d0 state=running>\n"
     ]
    }
   ],
   "source": [
    "\n",
    "# Submit the jobs\n",
    "import numpy as np\n",
    "result_futures = knot.map(np.linspace(0.1, 100, 20))\n",
    "print(result_futures)"
   ]
  },
  {
   "cell_type": "code",
   "execution_count": 9,
   "metadata": {},
   "outputs": [
    {
     "name": "stdout",
     "output_type": "stream",
     "text": [
      "Job ID              Name                        Status   \n",
      "---------------------------------------------------------\n",
      "3138bb58-3f6c-431d-bdfe-cc1f82bf625f        new-new-test-0              SUCCEEDED\n"
     ]
    }
   ],
   "source": [
    "knot.view_jobs()"
   ]
  },
  {
   "cell_type": "code",
   "execution_count": 12,
   "metadata": {},
   "outputs": [
    {
     "data": {
      "text/plain": [
       "{'status': 'SUCCEEDED',\n",
       " 'statusReason': None,\n",
       " 'attempts': [],\n",
       " 'arrayProperties': {'statusSummary': {'STARTING': 0,\n",
       "   'FAILED': 0,\n",
       "   'RUNNING': 0,\n",
       "   'SUCCEEDED': 20,\n",
       "   'RUNNABLE': 0,\n",
       "   'SUBMITTED': 0,\n",
       "   'PENDING': 0},\n",
       "  'size': 20}}"
      ]
     },
     "execution_count": 12,
     "metadata": {},
     "output_type": "execute_result"
    }
   ],
   "source": [
    "knot.jobs[0].status"
   ]
  },
  {
   "cell_type": "code",
   "execution_count": 14,
   "metadata": {},
   "outputs": [],
   "source": [
    "knot.clobber(clobber_pars=True, clobber_repo=True,clobber_image=True)"
   ]
  }
 ],
 "metadata": {
  "kernelspec": {
   "display_name": "dipy",
   "language": "python",
   "name": "python3"
  },
  "language_info": {
   "codemirror_mode": {
    "name": "ipython",
    "version": 3
   },
   "file_extension": ".py",
   "mimetype": "text/x-python",
   "name": "python",
   "nbconvert_exporter": "python",
   "pygments_lexer": "ipython3",
   "version": "3.11.7"
  }
 },
 "nbformat": 4,
 "nbformat_minor": 2
}
